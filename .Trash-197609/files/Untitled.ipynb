{
 "cells": [
  {
   "cell_type": "code",
   "execution_count": 1,
   "id": "114d0484-d23c-435c-bfdf-810dcc419c7d",
   "metadata": {},
   "outputs": [
    {
     "name": "stdout",
     "output_type": "stream",
     "text": [
      "/app\n"
     ]
    },
    {
     "name": "stderr",
     "output_type": "stream",
     "text": [
      "/home/garru/venv/lib/python3.12/site-packages/IPython/core/magics/osm.py:417: UserWarning: This is now an optional IPython functionality, setting dhist requires you to install the `pickleshare` library.\n",
      "  self.shell.db['dhist'] = compress_dhist(dhist)[-100:]\n"
     ]
    }
   ],
   "source": [
    "cd /app"
   ]
  },
  {
   "cell_type": "code",
   "execution_count": 2,
   "id": "f4815c00-0c65-43e3-b0f5-6e16bad9ba6b",
   "metadata": {},
   "outputs": [],
   "source": [
    "from src.NLP_process_data import SpellingCorrectionDatasetCleaner\n",
    "from src.utils.NLP_utils import SpellingCorrectionModel"
   ]
  },
  {
   "cell_type": "code",
   "execution_count": 3,
   "id": "10b33216-0f2b-4fec-9510-7f8dac828024",
   "metadata": {},
   "outputs": [],
   "source": [
    "model = SpellingCorrectionModel()\n",
    "cleaner = SpellingCorrectionDatasetCleaner(model)"
   ]
  },
  {
   "cell_type": "code",
   "execution_count": 5,
   "id": "a2115af7-e6a0-4c28-acce-93d1065ce23b",
   "metadata": {},
   "outputs": [],
   "source": [
    "text = \"Wehre aer yuo now\""
   ]
  },
  {
   "cell_type": "code",
   "execution_count": 6,
   "id": "2e4a7163-6c28-4d98-8eff-eaba5b080970",
   "metadata": {},
   "outputs": [
    {
     "data": {
      "text/plain": [
       "'were are you now'"
      ]
     },
     "execution_count": 6,
     "metadata": {},
     "output_type": "execute_result"
    }
   ],
   "source": [
    "cleaner(text)"
   ]
  }
 ],
 "metadata": {
  "kernelspec": {
   "display_name": "Python 3 (ipykernel)",
   "language": "python",
   "name": "python3"
  },
  "language_info": {
   "codemirror_mode": {
    "name": "ipython",
    "version": 3
   },
   "file_extension": ".py",
   "mimetype": "text/x-python",
   "name": "python",
   "nbconvert_exporter": "python",
   "pygments_lexer": "ipython3",
   "version": "3.12.5"
  }
 },
 "nbformat": 4,
 "nbformat_minor": 5
}
